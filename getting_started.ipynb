{
 "cells": [
  {
   "cell_type": "markdown",
   "metadata": {},
   "source": [
    "Getting started\n",
    "---------------\n",
    "Source: https://scikit-image.org/docs/dev/user_guide/getting_started.html\n",
    "\n",
    "``scikit-image`` is an image processing Python package that works with\n",
    ":mod:`numpy` arrays. The package is imported as ``skimage``: ::"
   ]
  },
  {
   "cell_type": "code",
   "execution_count": 1,
   "metadata": {},
   "outputs": [],
   "source": [
    "import skimage"
   ]
  },
  {
   "cell_type": "markdown",
   "metadata": {},
   "source": [
    "Most functions of ``skimage`` are found within submodules: ::"
   ]
  },
  {
   "cell_type": "code",
   "execution_count": 2,
   "metadata": {},
   "outputs": [
    {
     "data": {
      "text/plain": [
       "array([[156, 157, 160, ..., 152, 152, 152],\n",
       "       [156, 157, 159, ..., 152, 152, 152],\n",
       "       [158, 157, 156, ..., 152, 152, 152],\n",
       "       ...,\n",
       "       [121, 123, 126, ..., 121, 113, 111],\n",
       "       [121, 123, 126, ..., 121, 113, 111],\n",
       "       [121, 123, 126, ..., 121, 113, 111]], dtype=uint8)"
      ]
     },
     "execution_count": 2,
     "metadata": {},
     "output_type": "execute_result"
    }
   ],
   "source": [
    "from skimage import data\n",
    "camera = data.camera()\n",
    "camera"
   ]
  },
  {
   "cell_type": "markdown",
   "metadata": {},
   "source": [
    "A list of submodules and functions is found on the `API reference\n",
    "<https://scikit-image.org/docs/stable/api/api.html>`_ webpage.\n",
    "\n",
    "Within scikit-image, images are represented as NumPy arrays, for\n",
    "example 2-D arrays for grayscale 2-D images ::"
   ]
  },
  {
   "cell_type": "code",
   "execution_count": 3,
   "metadata": {},
   "outputs": [
    {
     "data": {
      "text/plain": [
       "(512, 512)"
      ]
     },
     "execution_count": 3,
     "metadata": {},
     "output_type": "execute_result"
    }
   ],
   "source": [
    "type(camera)\n",
    "# An image with 512 rows and 512 columns\n",
    "camera.shape"
   ]
  },
  {
   "cell_type": "markdown",
   "metadata": {},
   "source": [
    "The :mod:`skimage.data` submodule provides a set of functions returning\n",
    "example images, that can be used to get started quickly on using\n",
    "scikit-image's functions: ::"
   ]
  },
  {
   "cell_type": "code",
   "execution_count": 4,
   "metadata": {},
   "outputs": [
    {
     "data": {
      "text/plain": [
       "107"
      ]
     },
     "execution_count": 4,
     "metadata": {},
     "output_type": "execute_result"
    }
   ],
   "source": [
    "coins = data.coins()\n",
    "from skimage import filters\n",
    "threshold_value = filters.threshold_otsu(coins)\n",
    "threshold_value"
   ]
  },
  {
   "cell_type": "markdown",
   "metadata": {},
   "source": [
    "Of course, it is also possible to load your own images as NumPy arrays\n",
    "from image files, using :func:`skimage.io.imread`: ::"
   ]
  },
  {
   "cell_type": "code",
   "execution_count": 5,
   "metadata": {},
   "outputs": [],
   "source": [
    "import os\n",
    "filename = os.path.join(skimage.data_dir, 'moon.png')\n",
    "from skimage import io\n",
    "moon = io.imread(filename)"
   ]
  },
  {
   "cell_type": "code",
   "execution_count": 6,
   "metadata": {},
   "outputs": [
    {
     "data": {
      "text/plain": [
       "array([[116, 116, 122, ...,  93,  96,  96],\n",
       "       [116, 116, 122, ...,  93,  96,  96],\n",
       "       [116, 116, 122, ...,  93,  96,  96],\n",
       "       ...,\n",
       "       [109, 109, 112, ..., 117, 116, 116],\n",
       "       [114, 114, 113, ..., 118, 118, 118],\n",
       "       [114, 114, 113, ..., 118, 118, 118]], dtype=uint8)"
      ]
     },
     "execution_count": 6,
     "metadata": {},
     "output_type": "execute_result"
    }
   ],
   "source": [
    "moon"
   ]
  }
 ],
 "metadata": {
  "kernelspec": {
   "display_name": "Python 3",
   "language": "python",
   "name": "python3"
  },
  "language_info": {
   "codemirror_mode": {
    "name": "ipython",
    "version": 3
   },
   "file_extension": ".py",
   "mimetype": "text/x-python",
   "name": "python",
   "nbconvert_exporter": "python",
   "pygments_lexer": "ipython3",
   "version": "3.7.3"
  }
 },
 "nbformat": 4,
 "nbformat_minor": 2
}
